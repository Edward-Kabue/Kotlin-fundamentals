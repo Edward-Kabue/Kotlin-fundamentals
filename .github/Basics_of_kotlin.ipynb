{
 "cells": [
  {
   "cell_type": "code",
   "execution_count": 31,
   "outputs": [],
   "source": [
    "/*\n",
    "    Built-in types in Kotlin can be categorized as follows:\n",
    "\n",
    "    Numbers\n",
    "    Characters char - single string - continous set of char\n",
    "    Boolean : The data type has two possible values, true or false.\n",
    "    Arrays collection of Ints and strings\n",
    "\n",
    " */\n",
    "\n",
    "/*\n",
    "\n",
    "    Number Type:\n",
    "\n",
    "    Numbers in Kotlin are similar to Java.\n",
    "    There are 6 built-in types representing numbers:\n",
    "\n",
    "    - Byte data type can have values from -128 to 127 (8-bit signed binary integer).\n",
    "    - Short data type can have values between -32768 and 32767\n",
    "    - Int data type can have values between -2^31 and 2^31-1^\n",
    "    - Long data type can have values from -2^63 to 2^63-1^ (64-bit signed two complement integers).\n",
    "    - Float is a single precision 32-bit floating point.\n",
    "    - Double is a double precision 64-bit floating point number.\n",
    "\n",
    "    */\n",
    "    \n",
    "    val state: Boolean = true // We can assign the results to true or false.\n",
    "    println(state) // state result"
   ],
   "metadata": {
    "collapsed": false,
    "ExecuteTime": {
     "end_time": "2023-11-10T13:14:00.462862200Z",
     "start_time": "2023-11-10T13:14:00.373507Z"
    }
   }
  },
  {
   "cell_type": "code",
   "execution_count": null,
   "outputs": [],
   "source": [
    "/*Type Inference\n",
    "When a data type is not specified in a variable declaration, the variable’s data type can be inferred through type inference.\n",
    "*/\n",
    "val expChar:Char = 'A'//Explicit declaration of the data type\n",
    "if(expChar is Char) println(\"$expChar\")// prints: A\n",
    "val charVar = 'A' // The compiler infers that the type of charVar is Char\n",
    "if(charVar is Char) {\n",
    "    println(\"$charVar\") // prints A \n",
    "}"
   ],
   "metadata": {
    "collapsed": false
   }
  },
  {
   "cell_type": "code",
   "execution_count": null,
   "outputs": [],
   "source": [
    "fun type() {\n",
    "   var b: Any = 4.33 // inferred type of what\n",
    "\n",
    "\n",
    "   if(b is Float) {\n",
    "       println(\"Float\")\n",
    "   }\n",
    "\n",
    "   else if(b is Double) {\n",
    "       println(\"Double\")\n",
    "   }\n",
    "\n",
    "   if(b is String) {\n",
    "       println(\"String\")\n",
    "   }\n",
    "}\n",
    "type()"
   ],
   "metadata": {
    "collapsed": false
   }
  },
  {
   "cell_type": "code",
   "execution_count": null,
   "outputs": [],
   "source": [
    "//Mutable Variables\n",
    "/* A mutable variable is declared with the var keyword and represents a value that is expected to change throughout a program.*/\n",
    "\n",
    "var kimondio = \"Fanta\"\n",
    "kimondio = \"sprite\"\n",
    "fun main(){\n",
    "    println(kimondio)\n",
    "}\n",
    "main()"
   ],
   "metadata": {
    "collapsed": false
   }
  },
  {
   "cell_type": "code",
   "execution_count": null,
   "outputs": [],
   "source": [
    "/*Immutable Variables\n",
    "An immutable variable is declared with the val keyword and represents a value that must remain constant throughout a program.\n",
    "*/\n",
    "val car = \"Honda\"\n",
    "\n",
    "car = \"porche\"\n",
    "car"
   ],
   "metadata": {
    "collapsed": false
   }
  },
  {
   "cell_type": "code",
   "execution_count": null,
   "outputs": [],
   "source": [
    "//Kotlin syntax and how to run a basic program.\n",
    "// Kotlin functions\n",
    "\n",
    "fun main() {\n",
    "  println(\"Jambo bwana\")\n",
    "}\n",
    "main()"
   ],
   "metadata": {
    "collapsed": false
   }
  },
  {
   "cell_type": "code",
   "execution_count": null,
   "outputs": [],
   "source": [
    "//Order of Execution\n",
    "//Code is read, compiled, and executed in top-down order.\n",
    "fun order(){\n",
    "  println(\"first\")\n",
    "  println(\"second\")\n",
    "  println(\"third\")\n",
    "}\n",
    "order()"
   ],
   "metadata": {
    "collapsed": false
   }
  },
  {
   "cell_type": "code",
   "execution_count": null,
   "outputs": [],
   "source": [],
   "metadata": {
    "collapsed": false
   }
  }
 ],
 "metadata": {
  "kernelspec": {
   "display_name": "Kotlin",
   "language": "kotlin",
   "name": "kotlin"
  },
  "language_info": {
   "name": "kotlin",
   "version": "1.9.0",
   "mimetype": "text/x-kotlin",
   "file_extension": ".kt",
   "pygments_lexer": "kotlin",
   "codemirror_mode": "text/x-kotlin",
   "nbconvert_exporter": ""
  }
 },
 "nbformat": 4,
 "nbformat_minor": 0
}
